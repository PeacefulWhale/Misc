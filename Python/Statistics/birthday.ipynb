{
 "cells": [
  {
   "cell_type": "markdown",
   "metadata": {},
   "source": [
    "# Birthday \"Paradox\"\n",
    "\n",
    "If given a group of people `n` sized, where `n>=2`, what are the odds of 2 individuals sharing a birthday?\n",
    "\n",
    "This can be rewritten as \"choose n from 365, what are the odds that 2 match?\". \n",
    "\n",
    "Working from the inverse, the question is \"when given n people, what are the odds that none of them share a birthday\". \n",
    "\n",
    "The probability of any 2 people not sharing the same birthday is `364 / 365`. This probability for an entire room of people can be determined by raising `(364 / 365)` to the power of the total pairs of people in the room: `C(n,2)`. This can be simplified as `(364 / 365) ^ (0.5 * n * (n - 1))`.\n",
    "\n",
    "The probability of the opposite happening, our original question, can be expressed 1 - the above probability.\n",
    "\n",
    "The python implementation of this can be seen below"
   ]
  },
  {
   "cell_type": "code",
   "execution_count": 1,
   "metadata": {},
   "outputs": [
    {
     "name": "stdout",
     "output_type": "stream",
     "text": [
      "Probability of 2 people sharing a birthday in a group of 23 is 50.048%\n"
     ]
    }
   ],
   "source": [
    "n = 23 # number of people \n",
    "# 23 people = ~50% chance\n",
    "\n",
    "probability = 1 - ((364 / 365) ** (.5 * n * (n - 1)))\n",
    "probability *= 100\n",
    "\n",
    "print(f\"Probability of 2 people sharing a birthday in a group of {n} is {round(probability, 3)}%\")"
   ]
  },
  {
   "cell_type": "markdown",
   "metadata": {},
   "source": [
    "The probability of people sharing a birthday as n increases can be seen in the following graph. The blue line represents the mathematically predicted chance.\n",
    "\n",
    "The bar chart represents the percent of simulations that had people that shared a birthday."
   ]
  },
  {
   "cell_type": "code",
   "execution_count": 3,
   "metadata": {},
   "outputs": [
    {
     "data": {
      "image/png": "[encoded data removed]",
      "text/plain": [
       "<Figure size 432x288 with 1 Axes>"
      ]
     },
     "metadata": {
      "needs_background": "light"
     },
     "output_type": "display_data"
    }
   ],
   "source": [
    "maxX = 60 # how wide the graph is\n",
    "\n",
    "xCalc = []\n",
    "yCalc = []\n",
    "# Predicted Chance\n",
    "for i in range(2, maxX):\n",
    "    yCalc.append(1 - ((364 / 365) ** (.5 * i * (i - 1))))\n",
    "    xCalc.append(i)\n",
    "\n",
    "simRuns = 100\n",
    "import random, secrets\n",
    "random.seed(secrets.randbits(100))\n",
    "# Simulated Chance\n",
    "ySim = []\n",
    "for i in range(2, maxX): # number of people in simulation\n",
    "    times = 0 # number of times that the simulation has been true\n",
    "    for j in range(0, simRuns): # each simulation run\n",
    "        birthdays = []\n",
    "        for x in range(0, i): # each person in the simulation run\n",
    "            # choose a random integer between 1 and 365\n",
    "            day = random.randint(1, 365)\n",
    "            if day in birthdays:\n",
    "                times += 1\n",
    "                break\n",
    "            else:\n",
    "                birthdays.append(day)\n",
    "    ySim.append(times / simRuns)\n",
    "\n",
    "# Graph Creation\n",
    "import matplotlib.pyplot as plt\n",
    "plt.title(\"Birthday Paradox\")\n",
    "plt.xlabel(\"Number of people\")\n",
    "plt.ylabel(f\"Odds of shared birthday\\n{simRuns} simulation runs\")\n",
    "plt.plot(xCalc, yCalc) # line\n",
    "plt.bar(xCalc, ySim, color=\"skyblue\")\n",
    "plt.show()"
   ]
  },
  {
   "cell_type": "markdown",
   "metadata": {},
   "source": [
    "<b>As you can see, you only need about ~20 people to achieve a 50% probability (23 people will give you a 50.048% chance)</b>"
   ]
  }
 ],
 "metadata": {
  "interpreter": {
   "hash": "aee8b7b246df8f9039afb4144a1f6fd8d2ca17a180786b69acc140d282b71a49"
  },
  "kernelspec": {
   "display_name": "Python 3.9.7 64-bit",
   "name": "python3"
  },
  "language_info": {
   "codemirror_mode": {
    "name": "ipython",
    "version": 3
   },
   "file_extension": ".py",
   "mimetype": "text/x-python",
   "name": "python",
   "nbconvert_exporter": "python",
   "pygments_lexer": "ipython3",
   "version": "3.9.7"
  },
  "orig_nbformat": 4
 },
 "nbformat": 4,
 "nbformat_minor": 2
}
