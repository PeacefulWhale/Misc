{
 "cells": [
  {
   "cell_type": "markdown",
   "metadata": {},
   "source": [
    "# Vowels\n",
    "\n",
    "If one is given a set of `n` vowels and `m` constants, what are the odds of choosing `x` letters and having no vowels? What are the odds of having a vowel?"
   ]
  },
  {
   "cell_type": "code",
   "execution_count": 32,
   "metadata": {},
   "outputs": [
    {
     "name": "stdout",
     "output_type": "stream",
     "text": [
      "Odds of having a vowel: 87.3%\n",
      "Total runs with vowel: 873\n",
      "Total runs: 1000\n"
     ]
    }
   ],
   "source": [
    "# a simulation approach to this problem\n",
    "\n",
    "n = 3           # vowels\n",
    "m = 6           # constants\n",
    "x = 4           # letters chosen\n",
    "simRuns = 1000   # total simulation runs\n",
    "\n",
    "# create an array that has 0s and 1s. 0 = vowel. 1 = constant\n",
    "a = []\n",
    "for i in range(0, n):\n",
    "    a.append(0)\n",
    "for i in range(0, m):\n",
    "    a.append(1)\n",
    "\n",
    "# simulate attempts\n",
    "import random, secrets\n",
    "random.seed(secrets.randbits(100))\n",
    "vowels = 0\n",
    "for i in range(0, simRuns):\n",
    "    b = a.copy()\n",
    "    for i in range(0, x):\n",
    "        if(b.pop(random.randint(0, len(b) - 1)) == 0):\n",
    "            vowels += 1\n",
    "            break\n",
    "\n",
    "print(f\"Odds of having a vowel: {round(100 * (vowels / simRuns), 4)}%\\nTotal runs with vowel: {vowels}\\nTotal runs: {simRuns}\")"
   ]
  },
  {
   "cell_type": "markdown",
   "metadata": {},
   "source": [
    "This can also be derived mathematically. Asking the opposite of this question makes it easier to calculate the probabilities. \n",
    "\n",
    "Calculating the odds of *no* vowel being present in a given mix of vowels and constants when choosing x letters becomes a simple problem of products. I believe that this can also be expressed as a combination problem but at this moment my mind is failing me. The probability can be seen below:\n",
    "\n",
    "`product of ((m - y) / (n + m - y)), where y = 0 to x`\n",
    "\n",
    "Sadly I do not believe I can get the product symbol working in this notebook. \n",
    "\n",
    "The leads to the mathematical model for the odds of having at least one vowel present in a given mix of vowels and constants when choosing x letters simply being 1 minus the above."
   ]
  },
  {
   "cell_type": "code",
   "execution_count": 33,
   "metadata": {},
   "outputs": [
    {
     "name": "stdout",
     "output_type": "stream",
     "text": [
      "Odds of having no vowels: 11.9048%\n",
      "Odds of having a vowel: 88.0952%\n"
     ]
    }
   ],
   "source": [
    "# the mathematical approach, using the numbers above\n",
    "a = 1\n",
    "for y in range(0, x):\n",
    "    a = a * ((m - y) / (n + m - y))\n",
    "print(f\"Odds of having no vowels: {round(100 * a, 4)}%\")\n",
    "print(f\"Odds of having a vowel: {round(100 * (1 - a), 4)}%\")"
   ]
  }
 ],
 "metadata": {
  "interpreter": {
   "hash": "aee8b7b246df8f9039afb4144a1f6fd8d2ca17a180786b69acc140d282b71a49"
  },
  "kernelspec": {
   "display_name": "Python 3.9.7 64-bit",
   "language": "python",
   "name": "python3"
  },
  "language_info": {
   "codemirror_mode": {
    "name": "ipython",
    "version": 3
   },
   "file_extension": ".py",
   "mimetype": "text/x-python",
   "name": "python",
   "nbconvert_exporter": "python",
   "pygments_lexer": "ipython3",
   "version": "3.9.7"
  },
  "orig_nbformat": 4
 },
 "nbformat": 4,
 "nbformat_minor": 2
}
